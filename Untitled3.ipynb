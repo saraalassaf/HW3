{
 "cells": [
  {
   "cell_type": "code",
   "execution_count": 10,
   "id": "e52cd1f2",
   "metadata": {},
   "outputs": [
    {
     "name": "stdout",
     "output_type": "stream",
     "text": [
      "88\n",
      "Cannot find this student's name\n"
     ]
    }
   ],
   "source": [
    "def stugrade(name):\n",
    "    marks = {'Andy':88,'Amy':66,'James':90,'Jules':55,'Arthur':77}\n",
    "    for student in marks:\n",
    "        if student == name:\n",
    "            print(marks[student])\n",
    "            break\n",
    "    else:\n",
    "            print(\"Cannot find this student's name\")\n",
    "\n",
    "stugrade('Andy')\n",
    "stugrade('John')"
   ]
  },
  {
   "cell_type": "code",
   "execution_count": 9,
   "id": "85623243",
   "metadata": {},
   "outputs": [
    {
     "name": "stdout",
     "output_type": "stream",
     "text": [
      "75.2\n"
     ]
    }
   ],
   "source": [
    "def avggrade():\n",
    "    marks = {'Andy':88,'Amy':66,'James':90,'Jules':55,'Arthur':77}\n",
    "    all_marks_total = 0\n",
    "    all_marks_count = 0\n",
    "    for name, mark in marks.items():\n",
    "        all_marks_total += mark\n",
    "        all_marks_count += 1\n",
    "    print(all_marks_total/all_marks_count)\n",
    "    \n",
    "avggrade()"
   ]
  },
  {
   "cell_type": "code",
   "execution_count": 8,
   "id": "c3fbc593",
   "metadata": {},
   "outputs": [
    {
     "name": "stdout",
     "output_type": "stream",
     "text": [
      "0 0\n",
      "1 1\n",
      "2 4\n",
      "3 9\n",
      "4 16\n",
      "5 25\n",
      "6 36\n",
      "7 49\n",
      "greater than 8\n"
     ]
    }
   ],
   "source": [
    "def function1(num):\n",
    "    n = 0\n",
    "    while n < num:\n",
    "        print(n, n**2)\n",
    "        n += 1\n",
    "    else:\n",
    "        print(\"greater than\", num)\n",
    "        \n",
    "function1(8)"
   ]
  },
  {
   "cell_type": "code",
   "execution_count": 1,
   "id": "cae226f6",
   "metadata": {},
   "outputs": [
    {
     "name": "stdout",
     "output_type": "stream",
     "text": [
      "6\n"
     ]
    }
   ],
   "source": [
    "def total1(num):\n",
    "    sum = 0\n",
    "    n = 1\n",
    "    while n<num:\n",
    "        sum += n\n",
    "        n += 1\n",
    "    print(sum)\n",
    "    \n",
    "total1(4)"
   ]
  },
  {
   "cell_type": "code",
   "execution_count": 7,
   "id": "c995a196",
   "metadata": {},
   "outputs": [
    {
     "name": "stdout",
     "output_type": "stream",
     "text": [
      "1\n",
      "3\n",
      "6\n"
     ]
    }
   ],
   "source": [
    "def total2(num):\n",
    "    sum = 0\n",
    "    for n in range(1, num):\n",
    "        sum += n\n",
    "        print(sum)\n",
    "        n += 1\n",
    "    \n",
    "total2(4)"
   ]
  },
  {
   "cell_type": "code",
   "execution_count": 12,
   "id": "72e520a5",
   "metadata": {},
   "outputs": [
    {
     "name": "stdout",
     "output_type": "stream",
     "text": [
      "50.0 4950 28.577380332470412\n"
     ]
    }
   ],
   "source": [
    "import numpy as np\n",
    "def stats(nums):\n",
    "    x = np.mean(nums)\n",
    "    y = np.sum(nums)\n",
    "    z = np.std(nums)\n",
    "    print(x, y, z)\n",
    "    \n",
    "stats(range(1,100))"
   ]
  },
  {
   "cell_type": "code",
   "execution_count": 13,
   "id": "f9e37710",
   "metadata": {},
   "outputs": [
    {
     "data": {
      "text/plain": [
       "1"
      ]
     },
     "execution_count": 13,
     "metadata": {},
     "output_type": "execute_result"
    }
   ],
   "source": [
    "def minimal(v1, v2, v3, v4):\n",
    "    if v1 <= v2 and v1 <= v3 and v1 <=v4:\n",
    "        return v1\n",
    "    elif v2 <= v3 and v2 <= v4:\n",
    "        return v2\n",
    "    elif v3 <= v4:\n",
    "        return v3\n",
    "    else:\n",
    "        return v4\n",
    "\n",
    "minimal(4, 1, 5, 1)"
   ]
  },
  {
   "cell_type": "code",
   "execution_count": 19,
   "id": "3874d73a",
   "metadata": {},
   "outputs": [
    {
     "name": "stdout",
     "output_type": "stream",
     "text": [
      "Hi hello hey\n"
     ]
    }
   ],
   "source": [
    "def sentence(v1, v2, v3):\n",
    "    concatenate = v1 + \" \" + v2 + \" \" + v3\n",
    "    print(concatenate)\n",
    "    \n",
    "sentence(\"Hi\", \"hello\", \"hey\")"
   ]
  }
 ],
 "metadata": {
  "kernelspec": {
   "display_name": "Python 3 (ipykernel)",
   "language": "python",
   "name": "python3"
  },
  "language_info": {
   "codemirror_mode": {
    "name": "ipython",
    "version": 3
   },
   "file_extension": ".py",
   "mimetype": "text/x-python",
   "name": "python",
   "nbconvert_exporter": "python",
   "pygments_lexer": "ipython3",
   "version": "3.9.13"
  }
 },
 "nbformat": 4,
 "nbformat_minor": 5
}
